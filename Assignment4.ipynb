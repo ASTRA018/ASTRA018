{
  "nbformat": 4,
  "nbformat_minor": 0,
  "metadata": {
    "colab": {
      "provenance": [],
      "authorship_tag": "ABX9TyNOxv7pLesqyecY9umCZ7W/",
      "include_colab_link": true
    },
    "kernelspec": {
      "name": "python3",
      "display_name": "Python 3"
    },
    "language_info": {
      "name": "python"
    }
  },
  "cells": [
    {
      "cell_type": "markdown",
      "metadata": {
        "id": "view-in-github",
        "colab_type": "text"
      },
      "source": [
        "<a href=\"https://colab.research.google.com/github/ASTRA018/ASTRA018/blob/main/Assignment4.ipynb\" target=\"_parent\"><img src=\"https://colab.research.google.com/assets/colab-badge.svg\" alt=\"Open In Colab\"/></a>"
      ]
    },
    {
      "cell_type": "code",
      "execution_count": 4,
      "metadata": {
        "colab": {
          "base_uri": "https://localhost:8080/"
        },
        "id": "LaOMstMl-Jh4",
        "outputId": "ceae7f94-8858-4bbf-ed06-a3696a657a0a"
      },
      "outputs": [
        {
          "output_type": "stream",
          "name": "stdout",
          "text": [
            "Soot\n",
            "Tibbs\n",
            "Scrunkles\n",
            "Bob\n"
          ]
        }
      ],
      "source": [
        "cat_names = ['Soot', 'Tibbs', 'Scrunkles', 'Bob']\n",
        "print(cat_names[0])\n",
        "print(cat_names[1])\n",
        "print(cat_names[2])\n",
        "print(cat_names[3])"
      ]
    },
    {
      "cell_type": "code",
      "source": [
        "message = f\"{cat_names[0]} is such a dapper kitty!\"\n",
        "print(message)\n",
        "# Each message is the same except change {cat_names[]} insert number into [] depending on which name wanted"
      ],
      "metadata": {
        "colab": {
          "base_uri": "https://localhost:8080/"
        },
        "id": "zcCXIkCEBl1K",
        "outputId": "0c8a7548-2b50-40fc-d1ba-0fc45ad2b5c5"
      },
      "execution_count": 5,
      "outputs": [
        {
          "output_type": "stream",
          "name": "stdout",
          "text": [
            "Soot is such a dapper kitty!\n"
          ]
        }
      ]
    },
    {
      "cell_type": "code",
      "source": [
        "vehicles = ['Dodge Charger', 'Dodge Challenger', 'Durango']\n",
        "message1 = f\"I would like to own a {vehicles[2]} for the winter months.\"\n",
        "message2 = f\"I would love to own a Rallye AWD {vehicles[0]}.\"\n",
        "message3 = f\"My dream car is a blue {vehicles[1]} with black stripes.\"\n",
        "print(message1)\n",
        "print(message2)\n",
        "print(message3)"
      ],
      "metadata": {
        "colab": {
          "base_uri": "https://localhost:8080/"
        },
        "id": "cU1qOi0QDBuS",
        "outputId": "b09c545d-7817-4562-f78d-7cd74d97e194"
      },
      "execution_count": 6,
      "outputs": [
        {
          "output_type": "stream",
          "name": "stdout",
          "text": [
            "I would like to own a Durango for the winter months.\n",
            "I would love to own a Rallye AWD Dodge Charger.\n",
            "My dream car is a blue Dodge Challenger with black stripes.\n"
          ]
        }
      ]
    },
    {
      "cell_type": "code",
      "source": [
        "guest_list = ['Albert Camus', 'Friedrich Nietzsche', 'Alexander the Great']\n",
        "message1 = f\"Dear {guest_list[0]}, you are formally invited to dinner.\"\n",
        "message2 = f\"Dear {guest_list[1]}, you are formally invited to dinner.\"\n",
        "message3 = f\"Dear {guest_list[2]}, you are formally invited to dinner.\"\n",
        "print(message1)\n",
        "print(message2)\n",
        "print(message3)\n",
        "print(guest_list[1])\n",
        "guest_list[1] = 'Jack Sparrow'\n",
        "print(guest_list)\n",
        "message1 = f\"Dear {guest_list[0]}, you are formally invited to dinner.\"\n",
        "message2 = f\"Dear {guest_list[1]}, you are formally invited to dinner.\"\n",
        "message3 = f\"Dear {guest_list[2]}, you are formally invited to dinner.\"\n",
        "print(message1)\n",
        "print(message2)\n",
        "print(message3)"
      ],
      "metadata": {
        "colab": {
          "base_uri": "https://localhost:8080/"
        },
        "id": "Jt7TzOWMGmnS",
        "outputId": "39a5f784-4b06-4beb-d031-e455c0b65a04"
      },
      "execution_count": 7,
      "outputs": [
        {
          "output_type": "stream",
          "name": "stdout",
          "text": [
            "Dear Albert Camus, you are formally invited to dinner.\n",
            "Dear Friedrich Nietzsche, you are formally invited to dinner.\n",
            "Dear Alexander the Great, you are formally invited to dinner.\n",
            "Friedrich Nietzsche\n",
            "['Albert Camus', 'Jack Sparrow', 'Alexander the Great']\n",
            "Dear Albert Camus, you are formally invited to dinner.\n",
            "Dear Jack Sparrow, you are formally invited to dinner.\n",
            "Dear Alexander the Great, you are formally invited to dinner.\n"
          ]
        }
      ]
    },
    {
      "cell_type": "code",
      "source": [
        "print(\"We found a larger table.\")\n",
        "guest_list = ['Michael Scott','Albert Camus', 'Ryan Reynolds', 'Jack Sparrow', 'Alexander the Great', 'Aristotle']\n",
        "#guest_list.insert(0, 'Michael Scott')\n",
        "#guest_list.insert(2, 'Ryan Reynolds')\n",
        "#guest_list.append('Aristotle')\n",
        "print(guest_list)\n",
        "message1 = f\"Dear {guest_list[0]}, you're invited to dinner\"\n",
        "message2 = f\"Dear {guest_list[1]}, you're invited to dinner\"\n",
        "message3 = f\"Dear {guest_list[2]}, you're invited to dinner\"\n",
        "message4 = f\"Dear {guest_list[3]}, you're invited to dinner\"\n",
        "message5 = f\"Dear {guest_list[4]}, you're invited to dinner\"\n",
        "message6 = f\"Dear {guest_list[5]}, you're invited to dinner\"\n",
        "print(message1)\n",
        "print(message2)\n",
        "print(message3)\n",
        "print(message4)\n",
        "print(message5)\n",
        "print(message6)"
      ],
      "metadata": {
        "colab": {
          "base_uri": "https://localhost:8080/"
        },
        "id": "OgCBqv1cA4pH",
        "outputId": "d5dea931-51fd-41bd-8534-4b83036b7e13"
      },
      "execution_count": 9,
      "outputs": [
        {
          "output_type": "stream",
          "name": "stdout",
          "text": [
            "We found a larger table.\n",
            "['Michael Scott', 'Albert Camus', 'Ryan Reynolds', 'Jack Sparrow', 'Alexander the Great', 'Aristotle']\n",
            "Dear Michael Scott, you're invited to dinner\n",
            "Dear Albert Camus, you're invited to dinner\n",
            "Dear Ryan Reynolds, you're invited to dinner\n",
            "Dear Jack Sparrow, you're invited to dinner\n",
            "Dear Alexander the Great, you're invited to dinner\n",
            "Dear Aristotle, you're invited to dinner\n"
          ]
        }
      ]
    },
    {
      "cell_type": "code",
      "source": [
        "#guest_list.pop()\n",
        "#print(guest_list)\n",
        "#printing messages would be same message = f\"\"\n",
        "#del guest_list[0]\n",
        "print(guest_list)"
      ],
      "metadata": {
        "colab": {
          "base_uri": "https://localhost:8080/"
        },
        "id": "p28BwFEIjYaK",
        "outputId": "6dc95ace-490f-4f26-ba27-72c1477d0728"
      },
      "execution_count": 17,
      "outputs": [
        {
          "output_type": "stream",
          "name": "stdout",
          "text": [
            "[]\n"
          ]
        }
      ]
    },
    {
      "cell_type": "code",
      "source": [
        "places = ['Japan', 'Greece', 'Spain', 'Iceland', 'Wales']\n",
        "print(places)\n",
        "for i in sorted(places):\n",
        "  print(i)\n",
        "print(places)\n"
      ],
      "metadata": {
        "colab": {
          "base_uri": "https://localhost:8080/"
        },
        "id": "A4bbzxVUrWSf",
        "outputId": "a8dd1b42-986b-4cff-edbd-ee5c3148536e"
      },
      "execution_count": 9,
      "outputs": [
        {
          "output_type": "stream",
          "name": "stdout",
          "text": [
            "['Japan', 'Greece', 'Spain', 'Iceland', 'Wales']\n",
            "Greece\n",
            "Iceland\n",
            "Japan\n",
            "Spain\n",
            "Wales\n",
            "['Japan', 'Greece', 'Spain', 'Iceland', 'Wales']\n"
          ]
        }
      ]
    },
    {
      "cell_type": "code",
      "source": [
        "sorted(places, reverse = True)\n",
        "# The rest of the exercise seems redundant since its the same command"
      ],
      "metadata": {
        "colab": {
          "base_uri": "https://localhost:8080/"
        },
        "id": "xMVAx78MXUg1",
        "outputId": "92b26e64-c4d7-47d1-c66a-444e053267a9"
      },
      "execution_count": 12,
      "outputs": [
        {
          "output_type": "execute_result",
          "data": {
            "text/plain": [
              "['Wales', 'Spain', 'Japan', 'Iceland', 'Greece']"
            ]
          },
          "metadata": {},
          "execution_count": 12
        }
      ]
    },
    {
      "cell_type": "code",
      "source": [
        "guest_list = []\n",
        "len(guest_list)"
      ],
      "metadata": {
        "colab": {
          "base_uri": "https://localhost:8080/"
        },
        "id": "LpBVZ8DeZf8W",
        "outputId": "3090e713-f907-4ec4-ae4b-cea2c194ea75"
      },
      "execution_count": 14,
      "outputs": [
        {
          "output_type": "execute_result",
          "data": {
            "text/plain": [
              "0"
            ]
          },
          "metadata": {},
          "execution_count": 14
        }
      ]
    },
    {
      "cell_type": "code",
      "source": [
        "favorite_games = ['Monster Hunter', 'Destiny', 'Pokemon', 'Apex Legends', 'Minecraft']\n",
        "print(favorite_games)\n",
        "for g in sorted(favorite_games):\n",
        "  print(g)"
      ],
      "metadata": {
        "colab": {
          "base_uri": "https://localhost:8080/"
        },
        "id": "KUJ_13JPZrt1",
        "outputId": "071dcf58-c419-4711-8cf0-5ec4032efe56"
      },
      "execution_count": 16,
      "outputs": [
        {
          "output_type": "stream",
          "name": "stdout",
          "text": [
            "['Monster Hunter', 'Destiny', 'Pokemon', 'Apex Legends', 'Minecraft']\n",
            "Apex Legends\n",
            "Destiny\n",
            "Minecraft\n",
            "Monster Hunter\n",
            "Pokemon\n"
          ]
        }
      ]
    },
    {
      "cell_type": "code",
      "source": [
        "number = [[x ** 3] for x in range(10000)]\n",
        "print(number[60:85:7])"
      ],
      "metadata": {
        "colab": {
          "base_uri": "https://localhost:8080/"
        },
        "id": "B0ssRIg5bRdB",
        "outputId": "1b7a9173-1f95-4896-d4e0-c70bd09ea045"
      },
      "execution_count": 17,
      "outputs": [
        {
          "output_type": "stream",
          "name": "stdout",
          "text": [
            "[[216000], [300763], [405224], [531441]]\n"
          ]
        }
      ]
    },
    {
      "cell_type": "code",
      "source": [
        "equation = [[7.4 * x + 51] for x in range(-10, 121)]\n",
        "print(equation[50])\n",
        "print(equation[60])\n",
        "print(equation[130])\n",
        "print(equation[2])\n",
        "print(equation[16])"
      ],
      "metadata": {
        "colab": {
          "base_uri": "https://localhost:8080/"
        },
        "id": "SOp-DxAhfEt3",
        "outputId": "48b62d28-b36e-4b1e-b3f2-fb6253878c78"
      },
      "execution_count": 37,
      "outputs": [
        {
          "output_type": "stream",
          "name": "stdout",
          "text": [
            "[347.0]\n",
            "[421.0]\n",
            "[939.0]\n",
            "[-8.200000000000003]\n",
            "[95.4]\n"
          ]
        }
      ]
    },
    {
      "cell_type": "code",
      "source": [],
      "metadata": {
        "id": "fmNxAVfrgoC6"
      },
      "execution_count": null,
      "outputs": []
    }
  ]
}