{
  "nbformat": 4,
  "nbformat_minor": 0,
  "metadata": {
    "colab": {
      "provenance": [],
      "authorship_tag": "ABX9TyNsb6d6ZjAy/xGZWhsfKh86",
      "include_colab_link": true
    },
    "kernelspec": {
      "name": "python3",
      "display_name": "Python 3"
    },
    "language_info": {
      "name": "python"
    }
  },
  "cells": [
    {
      "cell_type": "markdown",
      "metadata": {
        "id": "view-in-github",
        "colab_type": "text"
      },
      "source": [
        "<a href=\"https://colab.research.google.com/github/ASTRA018/ASTRA018/blob/main/Assignment5.ipynb\" target=\"_parent\"><img src=\"https://colab.research.google.com/assets/colab-badge.svg\" alt=\"Open In Colab\"/></a>"
      ]
    },
    {
      "cell_type": "code",
      "execution_count": 33,
      "metadata": {
        "colab": {
          "base_uri": "https://localhost:8080/"
        },
        "id": "FmEfLALn3pVq",
        "outputId": "fa651f60-73da-40ca-96fd-67ca4e4860ed"
      },
      "outputs": [
        {
          "output_type": "stream",
          "name": "stdout",
          "text": [
            "I like buffalo chicken pizza!\n",
            "I like mushroom pizza!\n",
            "I like pepperoni pizza!\n",
            "I like chicken bacon ranch pizza!\n",
            "I like cheese pizza!\n",
            "I really like pizza!\n",
            "The first three items on the list are ['buffalo chicken pizza', 'mushroom pizza', 'pepperoni pizza']\n",
            "The middle three items on the list are ['mushroom pizza', 'pepperoni pizza', 'chicken bacon ranch pizza']\n",
            "The last three items on the list are ['chicken bacon ranch pizza', 'cheese pizza', 'garlic pizza']\n",
            "\n",
            "My favorite pizzas are:\n",
            "['buffalo chicken pizza', 'mushroom pizza', 'pepperoni pizza', 'chicken bacon ranch pizza', 'cheese pizza', 'garlic pizza']\n",
            "\n",
            "My friends favorite pizzas are:\n",
            "['buffalo chicken pizza', 'mushroom pizza', 'pepperoni pizza', 'chicken bacon ranch pizza', 'cheese pizza', 'pineapple pizza']\n"
          ]
        }
      ],
      "source": [
        "pizzas = ['buffalo chicken pizza', 'mushroom pizza', 'pepperoni pizza', 'chicken bacon ranch pizza', 'cheese pizza']\n",
        "friends_pizzas = pizzas[:]\n",
        "for pizza in pizzas:\n",
        "   print(f'I like {pizza}!')\n",
        "print(\"I really like pizza!\")\n",
        "pizzas.append('garlic pizza')\n",
        "friends_pizzas.append('pineapple pizza')\n",
        "\n",
        "print(f'The first three items on the list are {pizzas[:3]}')\n",
        "print(f'The middle three items on the list are {pizzas[1:4]}')\n",
        "print(f'The last three items on the list are {pizzas[-3:]}')\n",
        "print(\"\\nMy favorite pizzas are:\")\n",
        "print(pizzas)\n",
        "print(\"\\nMy friends favorite pizzas are:\")\n",
        "print(friends_pizzas)"
      ]
    },
    {
      "cell_type": "code",
      "source": [
        "#4.2 is the same as the pervious exercise so I will skip it"
      ],
      "metadata": {
        "id": "7MBUVWQB6BJw"
      },
      "execution_count": null,
      "outputs": []
    },
    {
      "cell_type": "code",
      "source": [
        "for values in range(1, 21):\n",
        "   print(values)"
      ],
      "metadata": {
        "colab": {
          "base_uri": "https://localhost:8080/"
        },
        "id": "RKCcKU_u6G9e",
        "outputId": "bdc86287-36e9-4211-9710-632ecef7a092"
      },
      "execution_count": 5,
      "outputs": [
        {
          "output_type": "stream",
          "name": "stdout",
          "text": [
            "1\n",
            "2\n",
            "3\n",
            "4\n",
            "5\n",
            "6\n",
            "7\n",
            "8\n",
            "9\n",
            "10\n",
            "11\n",
            "12\n",
            "13\n",
            "14\n",
            "15\n",
            "16\n",
            "17\n",
            "18\n",
            "19\n",
            "20\n"
          ]
        }
      ]
    },
    {
      "cell_type": "code",
      "source": [
        "for values in range (1, 1000000):\n",
        "  #print(values) Too long of a list"
      ],
      "metadata": {
        "colab": {
          "base_uri": "https://localhost:8080/",
          "height": 140
        },
        "id": "1Hx-Ifo27tTq",
        "outputId": "3803aa92-10c9-4b2d-a55d-bc42bb2af93c"
      },
      "execution_count": 11,
      "outputs": [
        {
          "output_type": "error",
          "ename": "IndentationError",
          "evalue": "ignored",
          "traceback": [
            "\u001b[0;36m  File \u001b[0;32m\"<ipython-input-11-7933368fe9f5>\"\u001b[0;36m, line \u001b[0;32m3\u001b[0m\n\u001b[0;31m    numbers = list(range(1,1000001))\u001b[0m\n\u001b[0m    ^\u001b[0m\n\u001b[0;31mIndentationError\u001b[0m\u001b[0;31m:\u001b[0m expected an indented block after 'for' statement on line 1\n"
          ]
        }
      ]
    },
    {
      "cell_type": "code",
      "source": [
        "numbers = list(range(1,1000001))\n",
        "print(min(numbers))\n",
        "print(max(numbers))\n",
        "print(sum(numbers))"
      ],
      "metadata": {
        "colab": {
          "base_uri": "https://localhost:8080/"
        },
        "id": "YtF4VkIc9bk_",
        "outputId": "6d1ecc0b-fc45-48c7-f3a3-4aadc8133903"
      },
      "execution_count": 16,
      "outputs": [
        {
          "output_type": "stream",
          "name": "stdout",
          "text": [
            "1\n",
            "1000000\n",
            "500000500000\n"
          ]
        }
      ]
    },
    {
      "cell_type": "code",
      "source": [
        "odd_numbers = list(range(1, 21, 2))\n",
        "print(odd_numbers)"
      ],
      "metadata": {
        "colab": {
          "base_uri": "https://localhost:8080/"
        },
        "id": "2f3xNU4-91-N",
        "outputId": "ad4c905a-6cf4-42f1-d209-eb12b5395eb8"
      },
      "execution_count": 22,
      "outputs": [
        {
          "output_type": "stream",
          "name": "stdout",
          "text": [
            "[1, 3, 5, 7, 9, 11, 13, 15, 17, 19]\n"
          ]
        }
      ]
    },
    {
      "cell_type": "code",
      "source": [
        "cubes = []\n",
        "for value in range(1,11):\n",
        "   cubes.append(value**3)\n",
        "print(cubes)"
      ],
      "metadata": {
        "colab": {
          "base_uri": "https://localhost:8080/"
        },
        "id": "9jFRnB1e_hOp",
        "outputId": "14fdb075-5ec7-4ae1-c35d-3d9aa1a49e28"
      },
      "execution_count": 24,
      "outputs": [
        {
          "output_type": "stream",
          "name": "stdout",
          "text": [
            "[1, 8, 27, 64, 125, 216, 343, 512, 729, 1000]\n"
          ]
        }
      ]
    },
    {
      "cell_type": "code",
      "source": [
        "cubes = [value**3 for value in range(1,11)]\n",
        "print(cubes)"
      ],
      "metadata": {
        "colab": {
          "base_uri": "https://localhost:8080/"
        },
        "id": "Su4aRT3r_15V",
        "outputId": "7529898d-7117-4946-d282-6dc07b63531f"
      },
      "execution_count": 25,
      "outputs": [
        {
          "output_type": "stream",
          "name": "stdout",
          "text": [
            "[1, 8, 27, 64, 125, 216, 343, 512, 729, 1000]\n"
          ]
        }
      ]
    },
    {
      "cell_type": "code",
      "source": [
        "menu_items = ('fried rice', 'ramen', 'sesame chicken', 'stir fry vegetables')\n",
        "#menu[3] = 'shrimp'\n",
        "print(\"Original Menu:\")\n",
        "for menu in menu_items:\n",
        "   print(menu)\n",
        "\n",
        "menu_items = ('fried rice', 'ramen', 'shrimp', 'sushi')\n",
        "print(\"\\nModified Menu:\")\n",
        "for menu in menu_items:\n",
        "   print(menu)"
      ],
      "metadata": {
        "colab": {
          "base_uri": "https://localhost:8080/"
        },
        "id": "IuuLBCqiACKi",
        "outputId": "e42b8a91-bbf3-41a5-afcc-e4a4c98985b0"
      },
      "execution_count": 45,
      "outputs": [
        {
          "output_type": "stream",
          "name": "stdout",
          "text": [
            "Original Menu:\n",
            "fried rice\n",
            "ramen\n",
            "sesame chicken\n",
            "stir fry vegetables\n",
            "\n",
            "Modified Menu:\n",
            "fried rice\n",
            "ramen\n",
            "shrimp\n",
            "sushi\n"
          ]
        }
      ]
    },
    {
      "cell_type": "code",
      "source": [
        "def factorial1(n):\n",
        "  numbers = [x+1 for x in range(n)]\n",
        "  fact = 1\n",
        "  for x in numbers:\n",
        "    fact *=x\n",
        "  return fact\n",
        "print(factorial1(5))\n",
        "print(factorial1(10))\n",
        "print(factorial1(20))\n",
        "print(factorial1(50))"
      ],
      "metadata": {
        "colab": {
          "base_uri": "https://localhost:8080/"
        },
        "id": "CA7z0t6uLF11",
        "outputId": "350c48dc-df23-4ffd-a0fa-2d69275b797c"
      },
      "execution_count": 49,
      "outputs": [
        {
          "output_type": "stream",
          "name": "stdout",
          "text": [
            "120\n",
            "3628800\n",
            "2432902008176640000\n",
            "30414093201713378043612608166064768844377641568960512000000000000\n"
          ]
        }
      ]
    },
    {
      "cell_type": "code",
      "source": [
        "exclude_numbers = [3, 12, 21]\n",
        "def special_factorial(n):\n",
        "  numbers = [x+1 for x in range(n) if x not in exclude_numbers]\n",
        "  fact = 1\n",
        "  for x in numbers:\n",
        "    fact *=x\n",
        "  return fact\n",
        "print(special_factorial(5))\n",
        "print(special_factorial(10))\n",
        "print(special_factorial(20))\n",
        "print(special_factorial(50))"
      ],
      "metadata": {
        "colab": {
          "base_uri": "https://localhost:8080/"
        },
        "id": "Hy69oiVhb8BZ",
        "outputId": "e1e67caf-d3a0-4f2b-b052-678cc78f3b57"
      },
      "execution_count": 77,
      "outputs": [
        {
          "output_type": "stream",
          "name": "stdout",
          "text": [
            "30\n",
            "907200\n",
            "46786577080320000\n",
            "26585745805693512275885146998308364374455980392448000000000000\n"
          ]
        }
      ]
    },
    {
      "cell_type": "code",
      "source": [],
      "metadata": {
        "id": "7g9V_bDDgCBo"
      },
      "execution_count": null,
      "outputs": []
    }
  ]
}