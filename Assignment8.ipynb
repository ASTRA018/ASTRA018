{
  "nbformat": 4,
  "nbformat_minor": 0,
  "metadata": {
    "colab": {
      "provenance": [],
      "authorship_tag": "ABX9TyMCtdB3NPE27FWpSgMO+FQt",
      "include_colab_link": true
    },
    "kernelspec": {
      "name": "python3",
      "display_name": "Python 3"
    },
    "language_info": {
      "name": "python"
    }
  },
  "cells": [
    {
      "cell_type": "markdown",
      "metadata": {
        "id": "view-in-github",
        "colab_type": "text"
      },
      "source": [
        "<a href=\"https://colab.research.google.com/github/ASTRA018/ASTRA018/blob/main/Assignment8.ipynb\" target=\"_parent\"><img src=\"https://colab.research.google.com/assets/colab-badge.svg\" alt=\"Open In Colab\"/></a>"
      ]
    },
    {
      "cell_type": "markdown",
      "source": [
        "# Alex Strack\n",
        "# Assignment 8"
      ],
      "metadata": {
        "id": "TkjiqL9NcazZ"
      }
    },
    {
      "cell_type": "code",
      "execution_count": 1,
      "metadata": {
        "colab": {
          "base_uri": "https://localhost:8080/"
        },
        "id": "__0RHurzWJMA",
        "outputId": "ebc158b0-f3a2-4e16-e10d-ef8285bdb3ee"
      },
      "outputs": [
        {
          "output_type": "stream",
          "name": "stdout",
          "text": [
            "Tell me something, and I will repeat it back to you: Hello everyone!\n",
            "Hello everyone!\n"
          ]
        }
      ],
      "source": [
        "message = input(\"Tell me something, and I will repeat it back to you: \")\n",
        "print(message)"
      ]
    },
    {
      "cell_type": "code",
      "source": [
        "name = input(\"Please enter your name: \")\n",
        "print(f\"\\nHello, {name}!\")"
      ],
      "metadata": {
        "colab": {
          "base_uri": "https://localhost:8080/"
        },
        "id": "KgpfsvrVW1jl",
        "outputId": "7d0e4168-8460-4848-80cb-5c6b80ba1db7"
      },
      "execution_count": 2,
      "outputs": [
        {
          "output_type": "stream",
          "name": "stdout",
          "text": [
            "Please enter your name: Alex\n",
            "\n",
            "Hello, Alex!\n"
          ]
        }
      ]
    },
    {
      "cell_type": "code",
      "source": [
        "prompt = \"If you share your name, we can personalize the messages you see.\"\n",
        "prompt += \"\\nWhat is your name? \"\n",
        "name = input(prompt)\n",
        "print(f\"\\nHello, {name}!\")"
      ],
      "metadata": {
        "colab": {
          "base_uri": "https://localhost:8080/"
        },
        "id": "KTEX-S1tXItX",
        "outputId": "86df37dd-1fe4-47e0-8653-74b930a4a5cb"
      },
      "execution_count": 3,
      "outputs": [
        {
          "output_type": "stream",
          "name": "stdout",
          "text": [
            "If you share your name, we can personalize the messages you see.\n",
            "What is your name? Alex\n",
            "\n",
            "Hello, Alex!\n"
          ]
        }
      ]
    },
    {
      "cell_type": "code",
      "source": [
        "age = input(\"How old are you? \")\n",
        "age"
      ],
      "metadata": {
        "colab": {
          "base_uri": "https://localhost:8080/",
          "height": 53
        },
        "id": "JH7uEsSUXkxV",
        "outputId": "c43e80a0-1d0a-45a3-f569-803a72e434be"
      },
      "execution_count": 6,
      "outputs": [
        {
          "name": "stdout",
          "output_type": "stream",
          "text": [
            "How old are you? 21\n"
          ]
        },
        {
          "output_type": "execute_result",
          "data": {
            "text/plain": [
              "'21'"
            ],
            "application/vnd.google.colaboratory.intrinsic+json": {
              "type": "string"
            }
          },
          "metadata": {},
          "execution_count": 6
        }
      ]
    },
    {
      "cell_type": "code",
      "source": [
        "age = input(\"How old are you? \")\n",
        "age = int(age)\n",
        "age >= 18"
      ],
      "metadata": {
        "colab": {
          "base_uri": "https://localhost:8080/"
        },
        "id": "6dBxz3oGX_xE",
        "outputId": "773a390e-a2f3-4d49-d9eb-56fb79304d6a"
      },
      "execution_count": 7,
      "outputs": [
        {
          "name": "stdout",
          "output_type": "stream",
          "text": [
            "How old are you? 21\n"
          ]
        },
        {
          "output_type": "execute_result",
          "data": {
            "text/plain": [
              "True"
            ]
          },
          "metadata": {},
          "execution_count": 7
        }
      ]
    },
    {
      "cell_type": "code",
      "source": [
        "height = input(\"How tall are you, in inches? \")\n",
        "height = int(height)\n",
        "if height >= 48:\n",
        "  print(\"\\nYou're tall enough to ride!\")\n",
        "else:\n",
        "  print(\"\\nYou'll be able to ride when you're a little older.\")"
      ],
      "metadata": {
        "colab": {
          "base_uri": "https://localhost:8080/"
        },
        "id": "R9su_YcPYRL6",
        "outputId": "84745002-3e24-44d7-f3ca-ac09fdc29e55"
      },
      "execution_count": 8,
      "outputs": [
        {
          "output_type": "stream",
          "name": "stdout",
          "text": [
            "How tall are you, in inches? 67\n",
            "\n",
            "You're tall enough to ride!\n"
          ]
        }
      ]
    },
    {
      "cell_type": "code",
      "source": [
        "print(4 % 3)\n",
        "print(5 % 3)\n",
        "print(6 % 3)\n",
        "print(7 % 3)"
      ],
      "metadata": {
        "colab": {
          "base_uri": "https://localhost:8080/"
        },
        "id": "bZKVy6xPYz5_",
        "outputId": "ee66ae60-4475-434b-a1f8-1d375ed4e07b"
      },
      "execution_count": 10,
      "outputs": [
        {
          "output_type": "stream",
          "name": "stdout",
          "text": [
            "1\n",
            "2\n",
            "0\n",
            "1\n"
          ]
        }
      ]
    },
    {
      "cell_type": "code",
      "source": [
        "number = input(\"Enter a number, and I'll tell you if it's even or odd: \")\n",
        "number = int(number)\n",
        "\n",
        "if number % 2 == 0:\n",
        "  print(f\"\\nThe number {number} is even.\")\n",
        "else:\n",
        "  print(f\"\\nThe number {number} is odd.\")"
      ],
      "metadata": {
        "colab": {
          "base_uri": "https://localhost:8080/"
        },
        "id": "OY8ahpieZg5m",
        "outputId": "bbb6ee35-5958-44d6-f352-18214a90256b"
      },
      "execution_count": 12,
      "outputs": [
        {
          "output_type": "stream",
          "name": "stdout",
          "text": [
            "Enter a number, and I'll tell you if it's even or odd: 7\n",
            "\n",
            "The number 7 is odd.\n"
          ]
        }
      ]
    },
    {
      "cell_type": "code",
      "source": [
        "car = input(\"What kind of rental car would you like? \")\n",
        "print(f\"Let me see if I can find you a {car}!\")"
      ],
      "metadata": {
        "colab": {
          "base_uri": "https://localhost:8080/"
        },
        "id": "qoGB_hxJaMW-",
        "outputId": "4b59d967-2bd7-4fef-814d-c617bb5e81a0"
      },
      "execution_count": 15,
      "outputs": [
        {
          "output_type": "stream",
          "name": "stdout",
          "text": [
            "What kind of rental car would you like? Dodge Charger\n",
            "Let me see if I can find you a Dodge Charger!\n"
          ]
        }
      ]
    },
    {
      "cell_type": "code",
      "source": [
        "guests = input(\"How many people are in your dinner group? \")\n",
        "guests = int(guests)\n",
        "if guests > 8:\n",
        "  print(\"I'm sorry, but you'll have to wait for a table.\")\n",
        "else:\n",
        "  print(\"Please follow me, your table is this way.\")"
      ],
      "metadata": {
        "colab": {
          "base_uri": "https://localhost:8080/"
        },
        "id": "HdENLP2oav-u",
        "outputId": "f7ace09b-2880-411c-9c69-ab666787ee91"
      },
      "execution_count": 17,
      "outputs": [
        {
          "output_type": "stream",
          "name": "stdout",
          "text": [
            "How many people are in your dinner group? 10\n",
            "I'm sorry, but you'll have to wait for a table.\n"
          ]
        }
      ]
    },
    {
      "cell_type": "code",
      "source": [
        "number = input(\"Enter a number, and I'll tell you if it's a multiple of 10: \")\n",
        "number =  int(number)\n",
        "if number % 10 == 0:\n",
        "  print(f\"\\nThe number {number} is a multiple of 10.\")\n",
        "else:\n",
        "  print(f\"\\nThe number {number} is not a multiple of 10.\")"
      ],
      "metadata": {
        "colab": {
          "base_uri": "https://localhost:8080/"
        },
        "id": "Az-b_ssRbg-w",
        "outputId": "c47b90a0-6479-4156-b141-4ef5fb5d4272"
      },
      "execution_count": 25,
      "outputs": [
        {
          "output_type": "stream",
          "name": "stdout",
          "text": [
            "Enter a number, and I'll tell you if it's a multiple of 10: 20\n",
            "\n",
            "The number 20 is a multiple of 10.\n"
          ]
        }
      ]
    },
    {
      "cell_type": "code",
      "source": [
        "current_number = 1\n",
        "while current_number <= 5:\n",
        "  print(current_number)\n",
        "  current_number += 1"
      ],
      "metadata": {
        "colab": {
          "base_uri": "https://localhost:8080/"
        },
        "id": "h8q2kCHMcZU1",
        "outputId": "3043d7e9-4279-4ea5-8786-e010dd78370e"
      },
      "execution_count": 26,
      "outputs": [
        {
          "output_type": "stream",
          "name": "stdout",
          "text": [
            "1\n",
            "2\n",
            "3\n",
            "4\n",
            "5\n"
          ]
        }
      ]
    },
    {
      "cell_type": "code",
      "source": [
        "prompt = \"\\nTell me something, and I will repeat it back to you:\"\n",
        "prompt += \"\\nEnter 'quit' to end the program. \"\n",
        "\n",
        "message = \"\"\n",
        "while message != 'quit':\n",
        "  message = input(prompt)\n",
        "\n",
        "  if message != 'quit':\n",
        "    print(message)"
      ],
      "metadata": {
        "colab": {
          "base_uri": "https://localhost:8080/"
        },
        "id": "5zNA6RezdXvc",
        "outputId": "71acac65-6392-47a9-bf85-7750146ff6b6"
      },
      "execution_count": 29,
      "outputs": [
        {
          "name": "stdout",
          "output_type": "stream",
          "text": [
            "\n",
            "Tell me something, and I will repeat it back to you:\n",
            "Enter 'quit' to end the program. Hello\n",
            "Hello\n",
            "\n",
            "Tell me something, and I will repeat it back to you:\n",
            "Enter 'quit' to end the program. Hello again\n",
            "Hello again\n",
            "\n",
            "Tell me something, and I will repeat it back to you:\n",
            "Enter 'quit' to end the program. quit\n"
          ]
        }
      ]
    },
    {
      "cell_type": "code",
      "source": [
        "prompt = \"\\nTell me something, and I will repeat it back to you:\"\n",
        "prompt += \"\\nEnter 'quit' to end the program. \"\n",
        "\n",
        "active = True\n",
        "while active:\n",
        "  message = input(prompt)\n",
        "\n",
        "  if message == 'quit':\n",
        "    active = False\n",
        "  else:\n",
        "    print(message)"
      ],
      "metadata": {
        "colab": {
          "base_uri": "https://localhost:8080/"
        },
        "id": "_keYFUBEd91r",
        "outputId": "1c0e0d01-34ae-41e1-b56b-fa4372f021b3"
      },
      "execution_count": 30,
      "outputs": [
        {
          "name": "stdout",
          "output_type": "stream",
          "text": [
            "\n",
            "Tell me something, and I will repeat it back to you:\n",
            "Enter 'quit' to end the program. Howdy\n",
            "Howdy\n",
            "\n",
            "Tell me something, and I will repeat it back to you:\n",
            "Enter 'quit' to end the program. How are you?\n",
            "How are you?\n",
            "\n",
            "Tell me something, and I will repeat it back to you:\n",
            "Enter 'quit' to end the program. quit\n"
          ]
        }
      ]
    },
    {
      "cell_type": "code",
      "source": [
        "prompt = \"\\nPlease enter the name of a city you have visited:\"\n",
        "prompt += \"\\n(Enter 'quit' when you are finished.) \"\n",
        "\n",
        "while True:\n",
        "  city = input(prompt)\n",
        "\n",
        "  if city == 'quit':\n",
        "    break\n",
        "  else:\n",
        "    print(f\"I'd love to go to {city.title()}!\")"
      ],
      "metadata": {
        "colab": {
          "base_uri": "https://localhost:8080/"
        },
        "id": "MqVXhJ8EewNB",
        "outputId": "ae5c7c65-fe52-4dfb-ab41-853b7eef72b2"
      },
      "execution_count": 31,
      "outputs": [
        {
          "name": "stdout",
          "output_type": "stream",
          "text": [
            "\n",
            "Please enter the name of a city you have visited:\n",
            "(Enter 'quit' when you are finished.) New York\n",
            "I'd love to go to New York!\n",
            "\n",
            "Please enter the name of a city you have visited:\n",
            "(Enter 'quit' when you are finished.) quit\n"
          ]
        }
      ]
    },
    {
      "cell_type": "code",
      "source": [
        "current_number = 0\n",
        "while current_number < 10:\n",
        "  current_number += 1\n",
        "  if current_number % 2 == 0:\n",
        "    continue\n",
        "\n",
        "  print(current_number)"
      ],
      "metadata": {
        "colab": {
          "base_uri": "https://localhost:8080/"
        },
        "id": "lYIJk8_0f1Ri",
        "outputId": "ac5988a7-0de7-4aa8-83f4-3b5367a0eed2"
      },
      "execution_count": 32,
      "outputs": [
        {
          "output_type": "stream",
          "name": "stdout",
          "text": [
            "1\n",
            "3\n",
            "5\n",
            "7\n",
            "9\n"
          ]
        }
      ]
    },
    {
      "cell_type": "code",
      "source": [
        "while True:\n",
        "  age = input(\"How old are you? \")\n",
        "  age = int(age)\n",
        "\n",
        "  if age < 3:\n",
        "    print(\"WHY ARE YOU BRINGING A CHILD THIS YOUNG TO THE MOVIES?!?!\")\n",
        "    break\n",
        "  elif age <= 12:\n",
        "    print(f\"Since you're {age}, your ticket will be $10.\")\n",
        "  else:\n",
        "    print(f\"Since you're {age}, your ticket will be $15.\")"
      ],
      "metadata": {
        "colab": {
          "base_uri": "https://localhost:8080/"
        },
        "id": "Rht3UpNggk4r",
        "outputId": "4b7fd5ab-7eef-45a8-c4f4-9ca30c8d59ce"
      },
      "execution_count": 34,
      "outputs": [
        {
          "output_type": "stream",
          "name": "stdout",
          "text": [
            "How old are you? 12\n",
            "Since you're 12, your ticket will be $10.\n",
            "How old are you? 18\n",
            "Since you're 18, your ticket will be $15.\n",
            "How old are you? 2\n",
            "WHY ARE YOU BRINGING A CHILD THIS YOUNG TO THE MOVIES?!?!\n"
          ]
        }
      ]
    },
    {
      "cell_type": "code",
      "source": [
        "prompt = \"\\nI'm thinking of a number 1 through 10, guess the number.\"\n",
        "prompt += \"\\n(Enter '999' to exit): \"\n",
        "keep_looping = True\n",
        "while keep_looping == True:\n",
        "  mystery_number = 4\n",
        "  number = input(prompt)\n",
        "  number = int(number)\n",
        "\n",
        "  if number == mystery_number:\n",
        "    print(\"You guessed the correct number!\")\n",
        "    keep_looping = False\n",
        "  elif number == 999:\n",
        "    print(\"Exiting the program.\")\n",
        "    break\n",
        "  else:\n",
        "    print(\"You guessed the wrong number.\")"
      ],
      "metadata": {
        "colab": {
          "base_uri": "https://localhost:8080/"
        },
        "id": "1oU1xs6lij00",
        "outputId": "01545184-3921-48ba-cce0-15dae90d9af1"
      },
      "execution_count": 7,
      "outputs": [
        {
          "output_type": "stream",
          "name": "stdout",
          "text": [
            "\n",
            "I'm thinking of a number 1 through 10, guess the number.\n",
            "(Enter '999' to exit): 999\n",
            "Exiting the program.\n"
          ]
        }
      ]
    },
    {
      "cell_type": "code",
      "source": [
        "unconfirmed_users = ['alice', 'brian', 'candice']\n",
        "confirmed_users = []\n",
        "\n",
        "while unconfirmed_users:\n",
        "  current_user = unconfirmed_users.pop()\n",
        "  print(f\"Verifying user: {current_user.title()}\")\n",
        "  confirmed_users.append(current_user)\n",
        "\n",
        "print(\"\\nThe following users have been confirmed: \")\n",
        "for confirmed_user in confirmed_users:\n",
        "  print(confirmed_user.title())"
      ],
      "metadata": {
        "colab": {
          "base_uri": "https://localhost:8080/"
        },
        "id": "53JQbfa-83U0",
        "outputId": "7f34c522-41e0-4e55-88e6-c8bf2bf7d340"
      },
      "execution_count": 9,
      "outputs": [
        {
          "output_type": "stream",
          "name": "stdout",
          "text": [
            "Verifying user: Candice\n",
            "Verifying user: Brian\n",
            "Verifying user: Alice\n",
            "\n",
            "The following users have been confirmed: \n",
            "Candice\n",
            "Brian\n",
            "Alice\n"
          ]
        }
      ]
    },
    {
      "cell_type": "code",
      "source": [
        "pets = ['dog', 'cat', 'dog', 'goldfish', 'cat', 'rabbit', 'cat']\n",
        "print(pets)\n",
        "\n",
        "while 'cat' in pets:\n",
        "  pets.remove('cat')\n",
        "print(pets)"
      ],
      "metadata": {
        "colab": {
          "base_uri": "https://localhost:8080/"
        },
        "id": "ZLEaGMHZ_SDS",
        "outputId": "9fb2020c-2bb8-4595-afc2-257c1385c0d1"
      },
      "execution_count": 10,
      "outputs": [
        {
          "output_type": "stream",
          "name": "stdout",
          "text": [
            "['dog', 'cat', 'dog', 'goldfish', 'cat', 'rabbit', 'cat']\n",
            "['dog', 'dog', 'goldfish', 'rabbit']\n"
          ]
        }
      ]
    },
    {
      "cell_type": "code",
      "source": [
        "responses = {}\n",
        "polling_active = True\n",
        "while polling_active:\n",
        "  name = input(\"\\nWhat is your name? \")\n",
        "  response = input(\"Which mountain would you like to climb someday? \")\n",
        "  responses[name] = response\n",
        "  repeat = input(\"Would you like to let another person respond? (yes/no) \")\n",
        "  if repeat == 'no':\n",
        "    polling_active = False\n",
        "print(\"\\n--- Polling Results ---\")\n",
        "for name, response in responses.items():\n",
        "  print(f\"{name} would like to climb {response}.\")"
      ],
      "metadata": {
        "colab": {
          "base_uri": "https://localhost:8080/"
        },
        "id": "cSVlUaumD4jh",
        "outputId": "aa30485c-10e9-4e7b-cd58-39da0f8cad30"
      },
      "execution_count": 16,
      "outputs": [
        {
          "output_type": "stream",
          "name": "stdout",
          "text": [
            "\n",
            "What is your name? Alex\n",
            "Which mountain would you like to climb someday? Everest\n",
            "Would you like to let another person respond? (yes/no) no\n",
            "\n",
            "--- Polling Results ---\n",
            "Alex would like to climb Everest.\n"
          ]
        }
      ]
    },
    {
      "cell_type": "code",
      "source": [
        "sandwich_orders = ['salami sandwich', 'ham and cheese sandwich', 'grilled cheese sandwich', 'tuna sandwich', 'pastrami sandwich']\n",
        "completed_sandwiches = []\n",
        "while sandwich_orders:\n",
        "  current_sandwich = sandwich_orders.pop()\n",
        "  print(f\"Your {current_sandwich} is being made now.\")\n",
        "  completed_sandwiches.append(current_sandwich)\n",
        "\n",
        "print(\"\\nHere is the list of sandwiches you ordered, they are all ready!\")\n",
        "for sandwich in completed_sandwiches:\n",
        "  print(sandwich)"
      ],
      "metadata": {
        "colab": {
          "base_uri": "https://localhost:8080/"
        },
        "id": "HgIr-pp7Fb5z",
        "outputId": "640534c3-2599-4728-96c6-ded299330244"
      },
      "execution_count": 18,
      "outputs": [
        {
          "output_type": "stream",
          "name": "stdout",
          "text": [
            "Your pastrami sandwich is being made now.\n",
            "Your tuna sandwich is being made now.\n",
            "Your grilled cheese sandwich is being made now.\n",
            "Your ham and cheese sandwich is being made now.\n",
            "Your salami sandwich is being made now.\n",
            "\n",
            "Here is the list of sandwiches you ordered, they are all ready!\n",
            "pastrami sandwich\n",
            "tuna sandwich\n",
            "grilled cheese sandwich\n",
            "ham and cheese sandwich\n",
            "salami sandwich\n"
          ]
        }
      ]
    },
    {
      "cell_type": "code",
      "source": [
        "beginning_number = 0\n",
        "keep_going = True\n",
        "while keep_going == True:\n",
        "  number = input(\"\\nPlease enter a number: \")\n",
        "  operator = input(\"Please enter an operator (Enter 999 to exit): \")\n",
        "  number = int(number)\n",
        "  if operator == '+':\n",
        "    print(beginning_number + number)\n",
        "  elif operator == '-':\n",
        "    print(beginning_number - number)\n",
        "  elif operator == '*':\n",
        "    print(beginning_number * number)\n",
        "  elif operator == '/':\n",
        "    print(beginning_number / number)\n",
        "  elif operator == '999':\n",
        "    print(\"Exiting program\")\n",
        "    keep_going = False\n",
        "\n",
        ""
      ],
      "metadata": {
        "colab": {
          "base_uri": "https://localhost:8080/"
        },
        "id": "vJSZhN38HJ2F",
        "outputId": "95ec2494-6367-49e7-f91c-938e6ed84cd8"
      },
      "execution_count": 39,
      "outputs": [
        {
          "output_type": "stream",
          "name": "stdout",
          "text": [
            "\n",
            "Please enter a number: 999\n",
            "Please enter an operator (Enter 999 to exit): 999\n",
            "Exiting program\n"
          ]
        }
      ]
    }
  ]
}