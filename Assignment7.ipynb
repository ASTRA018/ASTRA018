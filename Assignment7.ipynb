{
  "nbformat": 4,
  "nbformat_minor": 0,
  "metadata": {
    "colab": {
      "provenance": [],
      "authorship_tag": "ABX9TyOjc5UAvCIbtE3I8c1p/RIn",
      "include_colab_link": true
    },
    "kernelspec": {
      "name": "python3",
      "display_name": "Python 3"
    },
    "language_info": {
      "name": "python"
    }
  },
  "cells": [
    {
      "cell_type": "markdown",
      "metadata": {
        "id": "view-in-github",
        "colab_type": "text"
      },
      "source": [
        "<a href=\"https://colab.research.google.com/github/ASTRA018/ASTRA018/blob/main/Assignment7.ipynb\" target=\"_parent\"><img src=\"https://colab.research.google.com/assets/colab-badge.svg\" alt=\"Open In Colab\"/></a>"
      ]
    },
    {
      "cell_type": "markdown",
      "source": [
        "#Alex Strack\n",
        "#Assignment 7"
      ],
      "metadata": {
        "id": "rYOR53quqZnY"
      }
    },
    {
      "cell_type": "code",
      "source": [
        "alien_0 = {'color': 'green', 'points': 5}\n",
        "print(alien_0['color'])\n",
        "print(alien_0['points'])"
      ],
      "metadata": {
        "colab": {
          "base_uri": "https://localhost:8080/"
        },
        "id": "Z5KOreW_qgkE",
        "outputId": "c395fb2f-ab2c-41e7-a9fa-b061ccfed334"
      },
      "execution_count": 2,
      "outputs": [
        {
          "output_type": "stream",
          "name": "stdout",
          "text": [
            "green\n",
            "5\n"
          ]
        }
      ]
    },
    {
      "cell_type": "code",
      "source": [
        "alien_0 = {'color': 'green'}\n",
        "print(alien_0['color'])"
      ],
      "metadata": {
        "colab": {
          "base_uri": "https://localhost:8080/"
        },
        "id": "ssGJlDVxrYx4",
        "outputId": "3f14657f-777c-40d6-b4cd-3d649f6abe47"
      },
      "execution_count": 3,
      "outputs": [
        {
          "output_type": "stream",
          "name": "stdout",
          "text": [
            "green\n"
          ]
        }
      ]
    },
    {
      "cell_type": "code",
      "source": [
        "alien_0 = {'color': 'green', 'points': 5}\n",
        "new_points =alien_0['points']\n",
        "print(f\"You just earned {new_points} points!\")"
      ],
      "metadata": {
        "colab": {
          "base_uri": "https://localhost:8080/"
        },
        "id": "dhKktqdLrgtm",
        "outputId": "14153efb-d3c5-426d-8a39-dfb879d91b3b"
      },
      "execution_count": 4,
      "outputs": [
        {
          "output_type": "stream",
          "name": "stdout",
          "text": [
            "You just earned 5 points!\n"
          ]
        }
      ]
    },
    {
      "cell_type": "code",
      "source": [
        "alien_0 = {'color': 'green', 'points': 5}\n",
        "print(alien_0)\n",
        "alien_0['x-position'] = 0\n",
        "alien_0['y-position'] = 25\n",
        "print(alien_0)"
      ],
      "metadata": {
        "colab": {
          "base_uri": "https://localhost:8080/"
        },
        "id": "iIljgtSgr5mG",
        "outputId": "32c730fd-05cd-4ae3-c4f3-55fbe286948b"
      },
      "execution_count": 5,
      "outputs": [
        {
          "output_type": "stream",
          "name": "stdout",
          "text": [
            "{'color': 'green', 'points': 5}\n",
            "{'color': 'green', 'points': 5, 'x-position': 0, 'y-position': 25}\n"
          ]
        }
      ]
    },
    {
      "cell_type": "code",
      "source": [
        "alien_0 = {}\n",
        "alien_0['color'] = 'green'\n",
        "alien_0['points'] = 5\n",
        "print(alien_0)"
      ],
      "metadata": {
        "colab": {
          "base_uri": "https://localhost:8080/"
        },
        "id": "3-6mBurJscFm",
        "outputId": "6f90db25-27ef-4aa3-93b9-9bb3e73a5593"
      },
      "execution_count": 6,
      "outputs": [
        {
          "output_type": "stream",
          "name": "stdout",
          "text": [
            "{'color': 'green', 'points': 5}\n"
          ]
        }
      ]
    },
    {
      "cell_type": "code",
      "source": [
        "alien_0 = {'color': 'green'}\n",
        "print(f\"The alien is {alien_0['color']}.\")\n",
        "alien_0['color'] = 'yellow'\n",
        "print(f\"The alien is now {alien_0['color']}.\")"
      ],
      "metadata": {
        "colab": {
          "base_uri": "https://localhost:8080/"
        },
        "id": "Y5rTSiwutZJn",
        "outputId": "074c29e3-d5b3-403d-ef2b-32a93bfabaf0"
      },
      "execution_count": 8,
      "outputs": [
        {
          "output_type": "stream",
          "name": "stdout",
          "text": [
            "The alien is green.\n",
            "The alien is now yellow.\n"
          ]
        }
      ]
    },
    {
      "cell_type": "code",
      "source": [
        "alien_0 = {'x-position': 0, 'y-position': 25, 'speed': 'medium'}\n",
        "print(f\"Original position: {alien_0['x-position']}\")\n",
        "if alien_0['speed'] == 'slow':\n",
        "  x_increment = 1\n",
        "elif alien_0['speed'] == 'medium':\n",
        "  x_increment = 2\n",
        "else:\n",
        "  x_increment = 3\n",
        "alien_0['x-position'] = alien_0['x-position'] + x_increment\n",
        "print(f\"New position: {alien_0['x-position']}\")"
      ],
      "metadata": {
        "colab": {
          "base_uri": "https://localhost:8080/"
        },
        "id": "IDlRctowuGnt",
        "outputId": "537fe6fa-18c4-4f15-f87e-4609ad410267"
      },
      "execution_count": 9,
      "outputs": [
        {
          "output_type": "stream",
          "name": "stdout",
          "text": [
            "Original position: 0\n",
            "New position: 2\n"
          ]
        }
      ]
    },
    {
      "cell_type": "code",
      "source": [
        "alien_0 = {'color': 'green', 'points': 5}\n",
        "print(alien_0)\n",
        "del alien_0['points']\n",
        "print(alien_0)"
      ],
      "metadata": {
        "colab": {
          "base_uri": "https://localhost:8080/"
        },
        "id": "JtXXUdmwvgyf",
        "outputId": "438d5705-1b8c-4165-cdef-f34825f82347"
      },
      "execution_count": 10,
      "outputs": [
        {
          "output_type": "stream",
          "name": "stdout",
          "text": [
            "{'color': 'green', 'points': 5}\n",
            "{'color': 'green'}\n"
          ]
        }
      ]
    },
    {
      "cell_type": "code",
      "source": [
        "favorite_languages = {'en': 'python',\n",
        "                      'sarah': 'c',\n",
        "                      'edward': 'rust',\n",
        "                      'phil': 'python'\n",
        "                      }\n",
        "language = favorite_languages['sarah'].title()\n",
        "print(f\"Sarah's favorite language is {language}.\")"
      ],
      "metadata": {
        "colab": {
          "base_uri": "https://localhost:8080/"
        },
        "id": "xnYOcpn-vqIu",
        "outputId": "f0f59336-eaa8-4ed1-a595-ebacd8bfc8c8"
      },
      "execution_count": 11,
      "outputs": [
        {
          "output_type": "stream",
          "name": "stdout",
          "text": [
            "Sarah's favorite language is C.\n"
          ]
        }
      ]
    },
    {
      "cell_type": "code",
      "source": [
        "alien_0 = {'color': 'green', 'speed': 'slow'}\n",
        "point_value = alien_0.get('points', 'No point value assigned.')\n",
        "print(point_value)"
      ],
      "metadata": {
        "colab": {
          "base_uri": "https://localhost:8080/"
        },
        "id": "HNBUYDI2wc8i",
        "outputId": "4ccb3dd4-200f-40d3-8e47-0f32abf0a2bb"
      },
      "execution_count": 13,
      "outputs": [
        {
          "output_type": "stream",
          "name": "stdout",
          "text": [
            "No point value assigned.\n"
          ]
        }
      ]
    },
    {
      "cell_type": "code",
      "source": [
        "person = {'first_name': 'Ben', 'last_name': 'Strack', 'age': 28, 'city': 'Plattsburgh'}\n",
        "print(f\"My brother's first name is {person['first_name']}.\")\n",
        "print(f\"My brother's last name is {person['last_name']}.\")\n",
        "print(f\"My brother is {person['age']} years old.\")\n",
        "print(f\"My brother lives in {person['city']}.\")"
      ],
      "metadata": {
        "colab": {
          "base_uri": "https://localhost:8080/"
        },
        "id": "sPul7n_gxe_X",
        "outputId": "3f8803d1-d814-4e09-b4cd-50a8000ed9b9"
      },
      "execution_count": 14,
      "outputs": [
        {
          "output_type": "stream",
          "name": "stdout",
          "text": [
            "My brother's first name is Ben.\n",
            "My brother's last name is Strack.\n",
            "My brother is 28 years old.\n",
            "My brother lives in Plattsburgh.\n"
          ]
        }
      ]
    },
    {
      "cell_type": "code",
      "source": [
        "favorite_numbers = {'Alex': 4, 'Angel': 2, 'Michael': 16, 'Heather': 14}\n",
        "print(f\"Alex's favorite number is {favorite_numbers['Alex']}.\")\n",
        "print(f\"Angel's favorite number is {favorite_numbers['Angel']}.\")\n",
        "print(f\"Michael's favorite number is {favorite_numbers['Michael']}.\")\n",
        "print(f\"Heather's favorite number is {favorite_numbers['Heather']}.\")"
      ],
      "metadata": {
        "colab": {
          "base_uri": "https://localhost:8080/"
        },
        "id": "OMtgAJ41ys-N",
        "outputId": "1b3386a9-52d7-46ab-d4c9-65eef0e18c86"
      },
      "execution_count": 17,
      "outputs": [
        {
          "output_type": "stream",
          "name": "stdout",
          "text": [
            "Alex's favorite number is 4.\n",
            "Angel's favorite number is 2.\n",
            "Michael's favorite number is 16.\n",
            "Heather's favorite number is 14.\n"
          ]
        }
      ]
    },
    {
      "cell_type": "code",
      "source": [
        "glossary = {'print': 'whatever is typed in parenthesis is printed',\n",
        "            'if': 'if statement is followed by a condition, if the condition is met it runs the code',\n",
        "            'elif': 'elif statment is followed by a condition, if the condition is met it runs the code',\n",
        "            'else': 'if neither if or elif condition is meant, the code under else is ran',\n",
        "            'while': 'while some condition is true then all the code under the while statement runs'}\n",
        "print(\"print:\")\n",
        "print(glossary['print'])\n",
        "print(\"\\nif:\")\n",
        "print(glossary['if'])\n",
        "print(\"\\nelif:\")\n",
        "print(glossary['elif'])\n",
        "print(\"\\nelse:\")\n",
        "print(glossary['elif'])\n",
        "print(\"\\nwhile:\")\n",
        "print(glossary['while'])"
      ],
      "metadata": {
        "colab": {
          "base_uri": "https://localhost:8080/"
        },
        "id": "0nUxs32XzjuZ",
        "outputId": "17b1f51e-1542-4695-9167-ba6b6b1dcf19"
      },
      "execution_count": 18,
      "outputs": [
        {
          "output_type": "stream",
          "name": "stdout",
          "text": [
            "print:\n",
            "whatever is typed in parenthesis is printed\n",
            "\n",
            "if:\n",
            "if statement is followed by a condition, if the condition is met it runs the code\n",
            "\n",
            "elif:\n",
            "elif statment is followed by a condition, if the condition is met it runs the code\n",
            "\n",
            "else:\n",
            "elif statment is followed by a condition, if the condition is met it runs the code\n",
            "\n",
            "while:\n",
            "while some condition is true then all the code under the while statement runs\n"
          ]
        }
      ]
    },
    {
      "cell_type": "code",
      "source": [
        "user_0 = {\n",
        " 'username': 'efermi',\n",
        " 'first': 'enrico',\n",
        " 'last': 'fermi'\n",
        "}\n",
        "for key, value in user_0.items():\n",
        "  print(f\"\\nKey: {key}\")\n",
        "  print(f\"Value: {value}\")"
      ],
      "metadata": {
        "colab": {
          "base_uri": "https://localhost:8080/"
        },
        "id": "8XXrJGVz1hvp",
        "outputId": "68865009-34dc-4e63-bdc9-43d9e9dada91"
      },
      "execution_count": 19,
      "outputs": [
        {
          "output_type": "stream",
          "name": "stdout",
          "text": [
            "\n",
            "Key: username\n",
            "Value: efermi\n",
            "\n",
            "Key: first\n",
            "Value: enrico\n",
            "\n",
            "Key: last\n",
            "Value: fermi\n"
          ]
        }
      ]
    },
    {
      "cell_type": "code",
      "source": [
        "favorite_languages = {'jen': 'python',\n",
        "                      'sarah': 'c',\n",
        "                      'edward': 'rust',\n",
        "                      'phil': 'python'\n",
        "                      }\n",
        "for name, language in favorite_languages.items():\n",
        "  print(f\"{name.title()}'s favorite language is {language.title()}.\")\n"
      ],
      "metadata": {
        "colab": {
          "base_uri": "https://localhost:8080/"
        },
        "id": "3j3ytpvJ2IOp",
        "outputId": "8fa7aa27-58bb-4148-a9d0-ace15448c828"
      },
      "execution_count": 21,
      "outputs": [
        {
          "output_type": "stream",
          "name": "stdout",
          "text": [
            "Jen's favorite language is Python.\n",
            "Sarah's favorite language is C.\n",
            "Edward's favorite language is Rust.\n",
            "Phil's favorite language is Python.\n"
          ]
        }
      ]
    },
    {
      "cell_type": "code",
      "source": [
        "favorite_languages = {'jen': 'python',\n",
        "                      'sarah': 'c',\n",
        "                      'edward': 'rust',\n",
        "                      'phil': 'python'\n",
        "                      }\n",
        "for name in favorite_languages.keys():\n",
        "  print(name.title())"
      ],
      "metadata": {
        "colab": {
          "base_uri": "https://localhost:8080/"
        },
        "id": "jO8M8nox256a",
        "outputId": "b4af85c6-9054-4552-a9b8-18d627965d14"
      },
      "execution_count": 22,
      "outputs": [
        {
          "output_type": "stream",
          "name": "stdout",
          "text": [
            "Jen\n",
            "Sarah\n",
            "Edward\n",
            "Phil\n"
          ]
        }
      ]
    },
    {
      "cell_type": "code",
      "source": [
        "favorite_languages = {'jen': 'python',\n",
        "                      'sarah': 'c',\n",
        "                      'edward': 'rust',\n",
        "                      'phil': 'python'\n",
        "                      }\n",
        "friends = ['phil', 'sarah']\n",
        "for name in favorite_languages.keys():\n",
        "  print(f\"Hi {name.title()}.\")\n",
        "\n",
        "  if name in friends:\n",
        "    language = favorite_languages[name].title()\n",
        "    print(f\"\\t{name.title()}, I see you love {language}!\")"
      ],
      "metadata": {
        "colab": {
          "base_uri": "https://localhost:8080/"
        },
        "id": "0VEU9ryd3OYW",
        "outputId": "e83bc507-06bd-4768-be39-6c9f3c374943"
      },
      "execution_count": 23,
      "outputs": [
        {
          "output_type": "stream",
          "name": "stdout",
          "text": [
            "Hi Jen.\n",
            "Hi Sarah.\n",
            "\tSarah, I see you love C!\n",
            "Hi Edward.\n",
            "Hi Phil.\n",
            "\tPhil, I see you love Python!\n"
          ]
        }
      ]
    },
    {
      "cell_type": "code",
      "source": [
        "glossary = {'print': 'whatever is typed in parenthesis is printed',\n",
        "            'if': 'if statement is followed by a condition, if the condition is met it runs the code',\n",
        "            'elif': 'elif statment is followed by a condition, if the condition is met it runs the code',\n",
        "            'else': 'if neither if or elif condition is meant, the code under else is ran',\n",
        "            'while': 'while some condition is true then all the code under the while statement runs'}\n",
        "for name, definition in glossary.items():\n",
        "  print(f\"{name}: {definition}\")"
      ],
      "metadata": {
        "colab": {
          "base_uri": "https://localhost:8080/"
        },
        "id": "qFaTZaHq4M_L",
        "outputId": "439d4f8f-2cea-41bd-a202-f4b9cdc976cb"
      },
      "execution_count": 24,
      "outputs": [
        {
          "output_type": "stream",
          "name": "stdout",
          "text": [
            "print: whatever is typed in parenthesis is printed\n",
            "if: if statement is followed by a condition, if the condition is met it runs the code\n",
            "elif: elif statment is followed by a condition, if the condition is met it runs the code\n",
            "else: if neither if or elif condition is meant, the code under else is ran\n",
            "while: while some condition is true then all the code under the while statement runs\n"
          ]
        }
      ]
    },
    {
      "cell_type": "code",
      "source": [
        "cities = {'Austin': 'Population: 97,000, Location: Texas, Fact: Just south of the city the US Grand Prix was hosted.',\n",
        "          'San Fransisco': 'Population: 810,000, Location: California, Fact: San Fransisco is the 17th most populated city in the United States.',\n",
        "          'Seattle': 'Population: 740,000, Location: Washington, Fact: Microsoft and Amazon headquarters are located in Seattle.'}\n",
        "cities['New York City'] = 'Population: 8,468,000,000, Location: New York, Fact: The Statue of Liberty is located in New York'\n",
        "for city, information in cities.items():\n",
        "  print(f\"{city}- {information}\")\n",
        "print()\n",
        "print(f\"The closest city to me is New York City, and I learned these interesting facts: {cities['New York City']}\")"
      ],
      "metadata": {
        "colab": {
          "base_uri": "https://localhost:8080/"
        },
        "id": "oclYG4au48-d",
        "outputId": "c58a188e-ab40-446c-870a-dbf7c008ffc5"
      },
      "execution_count": 32,
      "outputs": [
        {
          "output_type": "stream",
          "name": "stdout",
          "text": [
            "Austin- Population: 97,000, Location: Texas, Fact: Just south of the city the US Grand Prix was hosted.\n",
            "San Fransisco- Population: 810,000, Location: California, Fact: San Fransisco is the 17th most populated city in the United States.\n",
            "Seattle- Population: 740,000, Location: Washington, Fact: Microsoft and Amazon headquarters are located in Seattle.\n",
            "New York City- Population: 8,468,000,000, Location: New York, Fact: The Statue of Liberty is located in New York\n",
            "\n",
            "The closest city to me is New York City, and I learned these interesting facts: Population: 8,468,000,000, Location: New York, Fact: The Statue of Liberty is located in New York\n"
          ]
        }
      ]
    }
  ]
}