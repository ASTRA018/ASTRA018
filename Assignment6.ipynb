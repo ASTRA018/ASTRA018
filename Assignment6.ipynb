{
  "nbformat": 4,
  "nbformat_minor": 0,
  "metadata": {
    "colab": {
      "provenance": [],
      "authorship_tag": "ABX9TyNRZve0NvA8If2+ijZovoYK",
      "include_colab_link": true
    },
    "kernelspec": {
      "name": "python3",
      "display_name": "Python 3"
    },
    "language_info": {
      "name": "python"
    }
  },
  "cells": [
    {
      "cell_type": "markdown",
      "metadata": {
        "id": "view-in-github",
        "colab_type": "text"
      },
      "source": [
        "<a href=\"https://colab.research.google.com/github/ASTRA018/ASTRA018/blob/main/Assignment6.ipynb\" target=\"_parent\"><img src=\"https://colab.research.google.com/assets/colab-badge.svg\" alt=\"Open In Colab\"/></a>"
      ]
    },
    {
      "cell_type": "code",
      "execution_count": 1,
      "metadata": {
        "colab": {
          "base_uri": "https://localhost:8080/"
        },
        "id": "UdBF2g_24VKN",
        "outputId": "df76b134-8cd1-4bef-de18-d29cf41a8689"
      },
      "outputs": [
        {
          "output_type": "stream",
          "name": "stdout",
          "text": [
            "Is car == 'charger'? I predict True\n",
            "True\n",
            "\n",
            "Is car == 'mustang'? I predict False\n",
            "False\n"
          ]
        }
      ],
      "source": [
        "car = 'charger'\n",
        "print(\"Is car == 'charger'? I predict True\")\n",
        "print(car == 'charger')\n",
        "\n",
        "print(\"\\nIs car == 'mustang'? I predict False\")\n",
        "print(car == 'mustang')"
      ]
    },
    {
      "cell_type": "code",
      "source": [
        "car = 'Charger'\n",
        "print(car == 'Charger')\n",
        "print(car != 'mustang')\n",
        "print(car.lower() == 'charger')\n",
        "age = 21\n",
        "print(age == 20)\n",
        "print(age != 23)\n",
        "print(age > 19)\n",
        "print(age < 17)\n",
        "print(age >= 21)\n",
        "print(age <= 21)\n",
        "age_0 = 18\n",
        "age_1 = 20\n",
        "print(age_0 >= 20 and age_1 >= 18)\n",
        "print(age_0 < 20 or age_1 < 20)\n",
        "order = ['fries', 'nuggets', 'root beer']\n",
        "print('fries' in order)\n",
        "favorite_color = ['Blue', 'Red', 'Black']\n",
        "color = 'Yellow'\n",
        "if color not in favorite_color:\n",
        "  print(f\"{color} is not one of my favorite colors\")"
      ],
      "metadata": {
        "colab": {
          "base_uri": "https://localhost:8080/"
        },
        "id": "CymfdppV58AD",
        "outputId": "c7a0381a-3714-4e77-ac7f-188b837d3686"
      },
      "execution_count": 2,
      "outputs": [
        {
          "output_type": "stream",
          "name": "stdout",
          "text": [
            "True\n",
            "True\n",
            "True\n",
            "False\n",
            "True\n",
            "True\n",
            "False\n",
            "True\n",
            "True\n",
            "False\n",
            "True\n",
            "True\n",
            "Yellow is not one of my favorite colors\n"
          ]
        }
      ]
    },
    {
      "cell_type": "code",
      "source": [
        "alien_color = 'red'\n",
        "if alien_color == 'red':\n",
        "  print(\"You just earned 5 points!\")\n",
        "alien_color_2 = 'yellow'\n",
        "if alien_color_2 == 'red':\n",
        "  print(\"You just earned 5 points!\")"
      ],
      "metadata": {
        "colab": {
          "base_uri": "https://localhost:8080/"
        },
        "id": "qtaPBYwV-EGo",
        "outputId": "a9699ea0-4436-47e1-ee7c-b8179a95a93a"
      },
      "execution_count": 4,
      "outputs": [
        {
          "output_type": "stream",
          "name": "stdout",
          "text": [
            "You just earned 5 points!\n"
          ]
        }
      ]
    },
    {
      "cell_type": "code",
      "source": [
        "alien_color = 'green'\n",
        "if alien_color == 'green':\n",
        "  print(\"You just earned 5 points!\")\n",
        "else:\n",
        "  print(\"You just earned 10 points!\")\n",
        "alien_color_2 = 'Yellow'\n",
        "if alien_color_2 == 'green':\n",
        "  print(\"You just earned 5 points!\")\n",
        "else:\n",
        "  print(\"You just earned 10 points!\")"
      ],
      "metadata": {
        "colab": {
          "base_uri": "https://localhost:8080/"
        },
        "id": "m4jO3BFw-jif",
        "outputId": "9ef795a8-8abd-4d2f-9e59-28c1baea2fd0"
      },
      "execution_count": 5,
      "outputs": [
        {
          "output_type": "stream",
          "name": "stdout",
          "text": [
            "You just earned 5 points!\n",
            "You just earned 10 points!\n"
          ]
        }
      ]
    },
    {
      "cell_type": "code",
      "source": [
        "alien_color = 'red'\n",
        "if alien_color == 'green':\n",
        "  print(\"You just earned 5 points!\")\n",
        "elif alien_color == 'yellow':\n",
        "  print(\"You just earned 10 points!\")\n",
        "elif alien_color == 'red':\n",
        "  print(\"You just earned 15 points!\")\n",
        "#skipping other 2 versions because it's the same thing"
      ],
      "metadata": {
        "colab": {
          "base_uri": "https://localhost:8080/"
        },
        "id": "D9ABO9TJ_KyM",
        "outputId": "a324b3e7-450a-42d5-fb89-68ef5d6ee895"
      },
      "execution_count": 7,
      "outputs": [
        {
          "output_type": "stream",
          "name": "stdout",
          "text": [
            "You just earned 15 points!\n"
          ]
        }
      ]
    },
    {
      "cell_type": "code",
      "source": [
        "age = 21\n",
        "if age < 2:\n",
        "  print(\"This person is a baby\")\n",
        "elif age < 4:\n",
        "  print(\"This person is a toddler\")\n",
        "elif age < 13:\n",
        "  print(\"This person is a kid\")\n",
        "elif age < 20:\n",
        "  print(\"This person is a teenager\")\n",
        "elif age < 65:\n",
        "  print(\"This person is an adult\")\n",
        "else:\n",
        "  print(\"This person is an elder\")"
      ],
      "metadata": {
        "colab": {
          "base_uri": "https://localhost:8080/"
        },
        "id": "GaMSpIkB_jmY",
        "outputId": "f75c3843-8447-4ad8-d121-a121e5da359e"
      },
      "execution_count": 8,
      "outputs": [
        {
          "output_type": "stream",
          "name": "stdout",
          "text": [
            "This person is an adult\n"
          ]
        }
      ]
    },
    {
      "cell_type": "code",
      "source": [
        "dinner_options = ['breakfast', 'hamburgers', 'stir fry', 'chicken fried rice']\n",
        "unhealthy_options = ['cereal', 'ice cream', 'candy']\n",
        "girlfriends_choices = ['ice cream', 'cake', 'breakfast']\n",
        "print(\"What do you want for dinner tonight?\")\n",
        "print(\"\")\n",
        "for girlfriends_choice in girlfriends_choices:\n",
        "  if girlfriends_choice in dinner_options:\n",
        "    print(f\"Okay, we can have {girlfriends_choice} for dinner!\")\n",
        "  if girlfriends_choice in unhealthy_options:\n",
        "    print(f\"You know we can't have {girlfriends_choice} for dinner.\")\n",
        "  if girlfriends_choice not in dinner_options:\n",
        "    print(f\"We don't even have {girlfriends_choice}.\")\n",
        "#This actually happened tonight"
      ],
      "metadata": {
        "colab": {
          "base_uri": "https://localhost:8080/"
        },
        "id": "kkTvNOZ3BiXX",
        "outputId": "a2865114-ba6f-4808-dc7d-deb97baca1f4"
      },
      "execution_count": 39,
      "outputs": [
        {
          "output_type": "stream",
          "name": "stdout",
          "text": [
            "What do you want for dinner tonight?\n",
            "\n",
            "You know we can't have ice cream for dinner.\n",
            "We don't even have ice cream.\n",
            "We don't even have cake.\n",
            "Okay, we can have breakfast for dinner!\n"
          ]
        }
      ]
    },
    {
      "cell_type": "code",
      "source": [],
      "metadata": {
        "id": "-kUIOfcWIaKx"
      },
      "execution_count": null,
      "outputs": []
    }
  ]
}