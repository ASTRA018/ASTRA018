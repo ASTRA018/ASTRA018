{
  "nbformat": 4,
  "nbformat_minor": 0,
  "metadata": {
    "colab": {
      "provenance": [],
      "mount_file_id": "1IolZ-K0leEkGh9yNpa5SjQ4jt-ppZMsV",
      "authorship_tag": "ABX9TyNADUNINWEDi51VKbV+5Fbe",
      "include_colab_link": true
    },
    "kernelspec": {
      "name": "python3",
      "display_name": "Python 3"
    },
    "language_info": {
      "name": "python"
    }
  },
  "cells": [
    {
      "cell_type": "markdown",
      "metadata": {
        "id": "view-in-github",
        "colab_type": "text"
      },
      "source": [
        "<a href=\"https://colab.research.google.com/github/ASTRA018/ASTRA018/blob/main/assignment2.ipynb\" target=\"_parent\"><img src=\"https://colab.research.google.com/assets/colab-badge.svg\" alt=\"Open In Colab\"/></a>"
      ]
    },
    {
      "cell_type": "code",
      "execution_count": null,
      "metadata": {
        "id": "SfAQDybOwrPS"
      },
      "outputs": [],
      "source": [
        "test_1 = 37\n",
        "test_2 = [12, 14, 99]"
      ]
    },
    {
      "cell_type": "code",
      "source": [
        "print(f'{test_1=}')\n",
        "print('test_2 is', test_2)"
      ],
      "metadata": {
        "colab": {
          "base_uri": "https://localhost:8080/"
        },
        "id": "1htrBkYCxpop",
        "outputId": "b38b5554-2411-4709-e953-b4cd1e3145ed"
      },
      "execution_count": null,
      "outputs": [
        {
          "output_type": "stream",
          "name": "stdout",
          "text": [
            "test_1=37\n",
            "test_2 is [12, 14, 99]\n"
          ]
        }
      ]
    },
    {
      "cell_type": "code",
      "source": [
        "def doubler(x):\n",
        "  y = x * 2\n",
        "  return y"
      ],
      "metadata": {
        "id": "X3KM2N_mx8ek"
      },
      "execution_count": null,
      "outputs": []
    },
    {
      "cell_type": "code",
      "source": [
        "print(doubler(test_1))\n",
        "print(doubler(test_2))"
      ],
      "metadata": {
        "colab": {
          "base_uri": "https://localhost:8080/"
        },
        "id": "aXMy3B8fyEOA",
        "outputId": "3dd1644a-ccd4-40e4-93ec-26847553f3bf"
      },
      "execution_count": null,
      "outputs": [
        {
          "output_type": "stream",
          "name": "stdout",
          "text": [
            "74\n",
            "[12, 14, 99, 12, 14, 99]\n"
          ]
        }
      ]
    },
    {
      "cell_type": "code",
      "source": [
        "class Wrapper:\n",
        "  def __init__(self, x):\n",
        "    self.x = x\n",
        "  def tripler(self):\n",
        "    y = self.x * 3\n",
        "    return y"
      ],
      "metadata": {
        "id": "2I9hEYbhyNxC"
      },
      "execution_count": null,
      "outputs": []
    },
    {
      "cell_type": "code",
      "source": [
        "w1 = Wrapper(test_1)\n",
        "w2 = Wrapper(test_2)"
      ],
      "metadata": {
        "id": "KE9GzW-hzCr2"
      },
      "execution_count": null,
      "outputs": []
    },
    {
      "cell_type": "code",
      "source": [
        "print(w1.tripler())\n",
        "print(w2.tripler())"
      ],
      "metadata": {
        "colab": {
          "base_uri": "https://localhost:8080/"
        },
        "id": "uRM30yekzNF6",
        "outputId": "9fa191a6-0dc6-4ca3-e98d-f7eabdde2ee3"
      },
      "execution_count": null,
      "outputs": [
        {
          "output_type": "stream",
          "name": "stdout",
          "text": [
            "111\n",
            "[12, 14, 99, 12, 14, 99, 12, 14, 99]\n"
          ]
        }
      ]
    }
  ]
}