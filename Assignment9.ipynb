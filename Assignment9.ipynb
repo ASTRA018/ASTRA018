{
  "nbformat": 4,
  "nbformat_minor": 0,
  "metadata": {
    "colab": {
      "provenance": [],
      "authorship_tag": "ABX9TyPmGxh1+LNOgZabq+irgaHF",
      "include_colab_link": true
    },
    "kernelspec": {
      "name": "python3",
      "display_name": "Python 3"
    },
    "language_info": {
      "name": "python"
    }
  },
  "cells": [
    {
      "cell_type": "markdown",
      "metadata": {
        "id": "view-in-github",
        "colab_type": "text"
      },
      "source": [
        "<a href=\"https://colab.research.google.com/github/ASTRA018/ASTRA018/blob/main/Assignment9.ipynb\" target=\"_parent\"><img src=\"https://colab.research.google.com/assets/colab-badge.svg\" alt=\"Open In Colab\"/></a>"
      ]
    },
    {
      "cell_type": "code",
      "execution_count": null,
      "metadata": {
        "colab": {
          "base_uri": "https://localhost:8080/"
        },
        "id": "WqE-9Yf8anSP",
        "outputId": "fd83f639-8786-450d-fa57-bc2d5a0ba794"
      },
      "outputs": [
        {
          "output_type": "stream",
          "name": "stdout",
          "text": [
            "One of my favorite books is Green Eggs And Ham\n"
          ]
        }
      ],
      "source": [
        "#8-2\n",
        "def favorite_book(title):\n",
        "  print(f\"One of my favorite books is {title.title()}\")\n",
        "favorite_book('green eggs and ham')"
      ]
    },
    {
      "cell_type": "code",
      "source": [
        "#8-3\n",
        "def make_shirt(size, text):\n",
        "  print(f\"The size is {size}, and the shirt should say {text.title()}.\")\n",
        "\n",
        "make_shirt('medium', 'just do it')\n",
        "make_shirt(size = 'large', text = 'nike')"
      ],
      "metadata": {
        "colab": {
          "base_uri": "https://localhost:8080/"
        },
        "id": "hO6Fq30cbn_L",
        "outputId": "9cfd1423-2b65-4e7e-853c-45571cf272e9"
      },
      "execution_count": null,
      "outputs": [
        {
          "output_type": "stream",
          "name": "stdout",
          "text": [
            "The size is medium, and the shirt should say Just Do It.\n",
            "The size is large, and the shirt should say Nike.\n"
          ]
        }
      ]
    },
    {
      "cell_type": "code",
      "source": [
        "#8-4\n",
        "def make_shirt(size = 'large', text = 'i love python'):\n",
        "  print(f\"The size is {size}, and the shirt should say {text.title()}.\")\n",
        "make_shirt()\n",
        "make_shirt(size = 'medium')\n",
        "make_shirt(size = 'small', text = 'howdy')"
      ],
      "metadata": {
        "colab": {
          "base_uri": "https://localhost:8080/"
        },
        "id": "5Y4RzgNHdxIN",
        "outputId": "0b00b61c-2dc2-4a47-b8d3-68c01a7ba32b"
      },
      "execution_count": null,
      "outputs": [
        {
          "output_type": "stream",
          "name": "stdout",
          "text": [
            "The size is large, and the shirt should say I Love Python.\n",
            "The size is medium, and the shirt should say I Love Python.\n",
            "The size is small, and the shirt should say Howdy.\n"
          ]
        }
      ]
    },
    {
      "cell_type": "code",
      "source": [
        "#8-14\n",
        "def car(manufacturer, model, color, engine):\n",
        "  print(f'car({manufacturer}, {model}, {color=}, {engine})')\n",
        "car(manufacturer='Dodge', model='Challenger', color='Black', engine='V8' )\n"
      ],
      "metadata": {
        "id": "5XhI-uTb4xLe",
        "colab": {
          "base_uri": "https://localhost:8080/"
        },
        "outputId": "19776011-d763-4841-f9b6-3380b5bd6eff"
      },
      "execution_count": 40,
      "outputs": [
        {
          "output_type": "stream",
          "name": "stdout",
          "text": [
            "car(Dodge, Challenger, color='Black', V8)\n"
          ]
        }
      ]
    },
    {
      "cell_type": "code",
      "source": [
        "#I had a lot of trouble figuring out how to return a sorted list, I'm sure it's really simple but I can't figure it out\n",
        "import math\n",
        "def sum_calc(x, y=3.141592653589793, verbose=False):\n",
        "    if verbose == True:\n",
        "      if x > y:\n",
        "        print(f'{x}, {y}')\n",
        "      if y > x:\n",
        "        print(f'{x}, {y}')\n",
        "      return x + y\n",
        "    else:\n",
        "      print(\"access denied\")\n",
        "\n",
        "\n",
        "print(sum_calc(7, 3, verbose=True))\n",
        "print(sum_calc(2, verbose=True))\n",
        "print(sum_calc(2, 10))\n",
        "print(sum_calc(100, -1, verbose = True))\n",
        "print(sum_calc(3, 3, verbose=False))"
      ],
      "metadata": {
        "colab": {
          "base_uri": "https://localhost:8080/"
        },
        "id": "yH2pAOT4eNIe",
        "outputId": "06b3a03f-779c-4d87-ab31-c43f94561b09"
      },
      "execution_count": null,
      "outputs": [
        {
          "output_type": "stream",
          "name": "stdout",
          "text": [
            "7, 3\n",
            "10\n",
            "2, 3.141592653589793\n",
            "5.141592653589793\n",
            "access denied\n",
            "None\n",
            "100, -1\n",
            "99\n",
            "access denied\n",
            "None\n"
          ]
        }
      ]
    },
    {
      "cell_type": "code",
      "source": [],
      "metadata": {
        "id": "iIzeciOZhWtP"
      },
      "execution_count": null,
      "outputs": []
    }
  ]
}